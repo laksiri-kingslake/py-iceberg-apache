{
 "cells": [
  {
   "cell_type": "markdown",
   "id": "569fb159",
   "metadata": {},
   "source": [
    "# Getting started with PyIceberg"
   ]
  },
  {
   "cell_type": "markdown",
   "id": "13e3693b",
   "metadata": {},
   "source": [
    "PyIceberg is a Python implementation for accessing Iceberg tables, without the need of a JVM."
   ]
  },
  {
   "cell_type": "markdown",
   "id": "f3cc52b1",
   "metadata": {},
   "source": [
    "## Installation"
   ]
  },
  {
   "cell_type": "code",
   "execution_count": null,
   "id": "89b4c2ae",
   "metadata": {},
   "outputs": [],
   "source": [
    "%pip install --upgrade pip"
   ]
  },
  {
   "cell_type": "code",
   "execution_count": null,
   "id": "f72e0d11",
   "metadata": {},
   "outputs": [],
   "source": [
    "%pip install \"pyiceberg[s3fs,hive]\"\n",
    "%pip install \"pyiceberg[sql-sqlite]\"\n",
    "%pip install pyarrow"
   ]
  },
  {
   "cell_type": "markdown",
   "id": "8971a288",
   "metadata": {},
   "source": [
    "## Connecting to a catalog"
   ]
  },
  {
   "cell_type": "markdown",
   "id": "396511ce",
   "metadata": {},
   "source": [
    "Create a temporary location for Iceberg:"
   ]
  },
  {
   "cell_type": "markdown",
   "id": "9184e58e",
   "metadata": {},
   "source": [
    "```bash\n",
    "mkdir /tmp/warehouse\n",
    "```\n"
   ]
  },
  {
   "cell_type": "markdown",
   "id": "d15b4022",
   "metadata": {},
   "source": [
    "Set up the catalog:"
   ]
  },
  {
   "cell_type": "code",
   "execution_count": null,
   "id": "b1b2c687",
   "metadata": {},
   "outputs": [],
   "source": [
    "from pyiceberg.catalog import load_catalog\n",
    "\n",
    "warehouse_path = \"/tmp/warehouse\"\n",
    "catalog = load_catalog(\n",
    "    \"default\",\n",
    "    **{\n",
    "        'type': 'sql',\n",
    "        \"uri\": f\"sqlite:///{warehouse_path}/pyiceberg_catalog.db\",\n",
    "        \"warehouse\": f\"file://{warehouse_path}\",\n",
    "    },\n",
    ")"
   ]
  },
  {
   "cell_type": "markdown",
   "id": "97072c73",
   "metadata": {},
   "source": [
    "## Write a PyArrow dataframe"
   ]
  },
  {
   "cell_type": "markdown",
   "id": "fad50010",
   "metadata": {},
   "source": [
    "First download one month of data:\n",
    "```bash\n",
    "curl https://d37ci6vzurychx.cloudfront.net/trip-data/yellow_tripdata_2023-01.parquet -o /tmp/yellow_tripdata_2023-01.parquet\n",
    "```"
   ]
  },
  {
   "cell_type": "markdown",
   "id": "523a9139",
   "metadata": {},
   "source": [
    "Load it into your PyArrow dataframe:"
   ]
  },
  {
   "cell_type": "code",
   "execution_count": null,
   "id": "919ecf8c",
   "metadata": {},
   "outputs": [],
   "source": [
    "import pyarrow.parquet as pq\n",
    "\n",
    "df = pq.read_table(\"/tmp/yellow_tripdata_2023-01.parquet\")"
   ]
  },
  {
   "cell_type": "markdown",
   "id": "b9860030",
   "metadata": {},
   "source": [
    "Create a new Iceberg table:"
   ]
  },
  {
   "cell_type": "code",
   "execution_count": null,
   "id": "a951a35f",
   "metadata": {},
   "outputs": [],
   "source": [
    "catalog.create_namespace(\"default\")\n",
    "\n",
    "table = catalog.create_table(\n",
    "    \"default.taxi_dataset\",\n",
    "    schema=df.schema,\n",
    ")"
   ]
  },
  {
   "cell_type": "markdown",
   "id": "3ca4f9cd",
   "metadata": {},
   "source": [
    "Append the dataframe to the table:"
   ]
  },
  {
   "cell_type": "code",
   "execution_count": null,
   "id": "bbe69030",
   "metadata": {},
   "outputs": [],
   "source": [
    "table.append(df)\n",
    "len(table.scan().to_arrow())"
   ]
  },
  {
   "cell_type": "markdown",
   "id": "0c78e58e",
   "metadata": {},
   "source": [
    "Now generate a tip-per-mile feature to train the model on:"
   ]
  },
  {
   "cell_type": "code",
   "execution_count": null,
   "id": "afb2bf4c",
   "metadata": {},
   "outputs": [],
   "source": [
    "import pyarrow.compute as pc\n",
    "\n",
    "df = df.append_column(\"tip_per_mile\", pc.divide(df[\"tip_amount\"], df[\"trip_distance\"]))"
   ]
  },
  {
   "cell_type": "markdown",
   "id": "7efee2e9",
   "metadata": {},
   "source": [
    "Evolve the schema of the table with the new column:"
   ]
  },
  {
   "cell_type": "code",
   "execution_count": null,
   "id": "96cc3f4f",
   "metadata": {},
   "outputs": [],
   "source": [
    "with table.update_schema() as update_schema:\n",
    "    update_schema.union_by_name(df.schema)"
   ]
  },
  {
   "cell_type": "markdown",
   "id": "242f4007",
   "metadata": {},
   "source": [
    "And now we can write the new dataframe to the Iceberg table:"
   ]
  },
  {
   "cell_type": "code",
   "execution_count": null,
   "id": "d2bf5fa9",
   "metadata": {},
   "outputs": [],
   "source": [
    "table.overwrite(df)\n",
    "print(table.scan().to_arrow())"
   ]
  },
  {
   "cell_type": "markdown",
   "id": "96e05bec",
   "metadata": {},
   "source": [
    "And we can see that 2371784 rows have a tip-per-mile:"
   ]
  },
  {
   "cell_type": "code",
   "execution_count": null,
   "id": "912ecb1c",
   "metadata": {},
   "outputs": [],
   "source": [
    "df = table.scan(row_filter=\"tip_per_mile > 0\").to_arrow()\n",
    "len(df)"
   ]
  },
  {
   "cell_type": "markdown",
   "id": "0dfde484",
   "metadata": {},
   "source": [
    "## Explore Iceberg data and metadata files"
   ]
  },
  {
   "cell_type": "markdown",
   "id": "ad1d1fdb",
   "metadata": {},
   "source": [
    "Since the catalog was configured to use the local filesystem, we can explore how Iceberg saved data and metadata files from the above operations.\n",
    "```bash\n",
    "find /tmp/warehouse/\n",
    "```"
   ]
  }
 ],
 "metadata": {
  "kernelspec": {
   "display_name": "pyiceburg",
   "language": "python",
   "name": "python3"
  },
  "language_info": {
   "name": "python",
   "version": "3.12.3"
  }
 },
 "nbformat": 4,
 "nbformat_minor": 5
}
